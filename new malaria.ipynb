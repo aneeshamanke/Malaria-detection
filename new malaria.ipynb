{
 "cells": [
  {
   "cell_type": "code",
   "execution_count": 7,
   "id": "8e58a4b8",
   "metadata": {},
   "outputs": [],
   "source": [
    "from tensorflow.keras.layers import Input, Lambda, Dense, Flatten,Conv2D\n",
    "from tensorflow.keras.models import Model\n",
    "from tensorflow.keras.applications.vgg19 import VGG19\n",
    "from tensorflow.keras.applications.resnet50 import preprocess_input\n",
    "from tensorflow.keras.preprocessing import image\n",
    "from tensorflow.keras.preprocessing.image import ImageDataGenerator,load_img\n",
    "from tensorflow.keras.models import Sequential\n",
    "import numpy as np\n",
    "from glob import glob\n",
    "import matplotlib.pyplot as plt"
   ]
  },
  {
   "cell_type": "code",
   "execution_count": 8,
   "id": "285df9ba",
   "metadata": {},
   "outputs": [],
   "source": [
    "IMAGE_SIZE = [224, 224]\n",
    "\n",
    "train_path = 'images/Train'\n",
    "valid_path = 'images/Test'"
   ]
  },
  {
   "cell_type": "code",
   "execution_count": 11,
   "id": "e835f9c4",
   "metadata": {},
   "outputs": [],
   "source": [
    "vgg19 = VGG19(input_shape=IMAGE_SIZE + [3], weights='imagenet', include_top=False)"
   ]
  },
  {
   "cell_type": "code",
   "execution_count": 13,
   "id": "eeb5f077",
   "metadata": {},
   "outputs": [
    {
     "name": "stdout",
     "output_type": "stream",
     "text": [
      "Model: \"vgg19\"\n",
      "_________________________________________________________________\n",
      " Layer (type)                Output Shape              Param #   \n",
      "=================================================================\n",
      " input_2 (InputLayer)        [(None, 224, 224, 3)]     0         \n",
      "                                                                 \n",
      " block1_conv1 (Conv2D)       (None, 224, 224, 64)      1792      \n",
      "                                                                 \n",
      " block1_conv2 (Conv2D)       (None, 224, 224, 64)      36928     \n",
      "                                                                 \n",
      " block1_pool (MaxPooling2D)  (None, 112, 112, 64)      0         \n",
      "                                                                 \n",
      " block2_conv1 (Conv2D)       (None, 112, 112, 128)     73856     \n",
      "                                                                 \n",
      " block2_conv2 (Conv2D)       (None, 112, 112, 128)     147584    \n",
      "                                                                 \n",
      " block2_pool (MaxPooling2D)  (None, 56, 56, 128)       0         \n",
      "                                                                 \n",
      " block3_conv1 (Conv2D)       (None, 56, 56, 256)       295168    \n",
      "                                                                 \n",
      " block3_conv2 (Conv2D)       (None, 56, 56, 256)       590080    \n",
      "                                                                 \n",
      " block3_conv3 (Conv2D)       (None, 56, 56, 256)       590080    \n",
      "                                                                 \n",
      " block3_conv4 (Conv2D)       (None, 56, 56, 256)       590080    \n",
      "                                                                 \n",
      " block3_pool (MaxPooling2D)  (None, 28, 28, 256)       0         \n",
      "                                                                 \n",
      " block4_conv1 (Conv2D)       (None, 28, 28, 512)       1180160   \n",
      "                                                                 \n",
      " block4_conv2 (Conv2D)       (None, 28, 28, 512)       2359808   \n",
      "                                                                 \n",
      " block4_conv3 (Conv2D)       (None, 28, 28, 512)       2359808   \n",
      "                                                                 \n",
      " block4_conv4 (Conv2D)       (None, 28, 28, 512)       2359808   \n",
      "                                                                 \n",
      " block4_pool (MaxPooling2D)  (None, 14, 14, 512)       0         \n",
      "                                                                 \n",
      " block5_conv1 (Conv2D)       (None, 14, 14, 512)       2359808   \n",
      "                                                                 \n",
      " block5_conv2 (Conv2D)       (None, 14, 14, 512)       2359808   \n",
      "                                                                 \n",
      " block5_conv3 (Conv2D)       (None, 14, 14, 512)       2359808   \n",
      "                                                                 \n",
      " block5_conv4 (Conv2D)       (None, 14, 14, 512)       2359808   \n",
      "                                                                 \n",
      " block5_pool (MaxPooling2D)  (None, 7, 7, 512)         0         \n",
      "                                                                 \n",
      "=================================================================\n",
      "Total params: 20,024,384\n",
      "Trainable params: 20,024,384\n",
      "Non-trainable params: 0\n",
      "_________________________________________________________________\n"
     ]
    }
   ],
   "source": [
    "vgg19.summary()"
   ]
  },
  {
   "cell_type": "code",
   "execution_count": 14,
   "id": "dfd3f553",
   "metadata": {},
   "outputs": [],
   "source": [
    "for layer in vgg19.layers:\n",
    "    layer.trainable = False"
   ]
  },
  {
   "cell_type": "code",
   "execution_count": 15,
   "id": "61a32fc5",
   "metadata": {},
   "outputs": [],
   "source": [
    "folders = glob('images/Train/*')\n"
   ]
  },
  {
   "cell_type": "code",
   "execution_count": 16,
   "id": "ce081967",
   "metadata": {},
   "outputs": [
    {
     "data": {
      "text/plain": [
       "['images/Train\\\\Parasite', 'images/Train\\\\Uninfected']"
      ]
     },
     "execution_count": 16,
     "metadata": {},
     "output_type": "execute_result"
    }
   ],
   "source": [
    "folders\n"
   ]
  },
  {
   "cell_type": "code",
   "execution_count": 17,
   "id": "84c5974f",
   "metadata": {},
   "outputs": [],
   "source": [
    "x = Flatten()(vgg19.output)"
   ]
  },
  {
   "cell_type": "code",
   "execution_count": 18,
   "id": "af4805e6",
   "metadata": {},
   "outputs": [],
   "source": [
    "prediction = Dense(len(folders), activation='softmax')(x)\n",
    "\n",
    "# create a model object\n",
    "model = Model(inputs=vgg19.input, outputs=prediction)"
   ]
  },
  {
   "cell_type": "code",
   "execution_count": 19,
   "id": "4f3531f9",
   "metadata": {},
   "outputs": [
    {
     "name": "stdout",
     "output_type": "stream",
     "text": [
      "Model: \"model\"\n",
      "_________________________________________________________________\n",
      " Layer (type)                Output Shape              Param #   \n",
      "=================================================================\n",
      " input_2 (InputLayer)        [(None, 224, 224, 3)]     0         \n",
      "                                                                 \n",
      " block1_conv1 (Conv2D)       (None, 224, 224, 64)      1792      \n",
      "                                                                 \n",
      " block1_conv2 (Conv2D)       (None, 224, 224, 64)      36928     \n",
      "                                                                 \n",
      " block1_pool (MaxPooling2D)  (None, 112, 112, 64)      0         \n",
      "                                                                 \n",
      " block2_conv1 (Conv2D)       (None, 112, 112, 128)     73856     \n",
      "                                                                 \n",
      " block2_conv2 (Conv2D)       (None, 112, 112, 128)     147584    \n",
      "                                                                 \n",
      " block2_pool (MaxPooling2D)  (None, 56, 56, 128)       0         \n",
      "                                                                 \n",
      " block3_conv1 (Conv2D)       (None, 56, 56, 256)       295168    \n",
      "                                                                 \n",
      " block3_conv2 (Conv2D)       (None, 56, 56, 256)       590080    \n",
      "                                                                 \n",
      " block3_conv3 (Conv2D)       (None, 56, 56, 256)       590080    \n",
      "                                                                 \n",
      " block3_conv4 (Conv2D)       (None, 56, 56, 256)       590080    \n",
      "                                                                 \n",
      " block3_pool (MaxPooling2D)  (None, 28, 28, 256)       0         \n",
      "                                                                 \n",
      " block4_conv1 (Conv2D)       (None, 28, 28, 512)       1180160   \n",
      "                                                                 \n",
      " block4_conv2 (Conv2D)       (None, 28, 28, 512)       2359808   \n",
      "                                                                 \n",
      " block4_conv3 (Conv2D)       (None, 28, 28, 512)       2359808   \n",
      "                                                                 \n",
      " block4_conv4 (Conv2D)       (None, 28, 28, 512)       2359808   \n",
      "                                                                 \n",
      " block4_pool (MaxPooling2D)  (None, 14, 14, 512)       0         \n",
      "                                                                 \n",
      " block5_conv1 (Conv2D)       (None, 14, 14, 512)       2359808   \n",
      "                                                                 \n",
      " block5_conv2 (Conv2D)       (None, 14, 14, 512)       2359808   \n",
      "                                                                 \n",
      " block5_conv3 (Conv2D)       (None, 14, 14, 512)       2359808   \n",
      "                                                                 \n",
      " block5_conv4 (Conv2D)       (None, 14, 14, 512)       2359808   \n",
      "                                                                 \n",
      " block5_pool (MaxPooling2D)  (None, 7, 7, 512)         0         \n",
      "                                                                 \n",
      " flatten (Flatten)           (None, 25088)             0         \n",
      "                                                                 \n",
      " dense (Dense)               (None, 2)                 50178     \n",
      "                                                                 \n",
      "=================================================================\n",
      "Total params: 20,074,562\n",
      "Trainable params: 50,178\n",
      "Non-trainable params: 20,024,384\n",
      "_________________________________________________________________\n"
     ]
    }
   ],
   "source": [
    "model.summary()"
   ]
  },
  {
   "cell_type": "markdown",
   "id": "ea81e083",
   "metadata": {},
   "source": [
    "code using cnn"
   ]
  },
  {
   "cell_type": "code",
   "execution_count": 20,
   "id": "feb275a8",
   "metadata": {},
   "outputs": [],
   "source": [
    "from tensorflow.keras.layers import MaxPooling2D"
   ]
  },
  {
   "cell_type": "code",
   "execution_count": 21,
   "id": "79264de6",
   "metadata": {},
   "outputs": [
    {
     "name": "stdout",
     "output_type": "stream",
     "text": [
      "Model: \"sequential\"\n",
      "_________________________________________________________________\n",
      " Layer (type)                Output Shape              Param #   \n",
      "=================================================================\n",
      " conv2d (Conv2D)             (None, 224, 224, 16)      208       \n",
      "                                                                 \n",
      " max_pooling2d (MaxPooling2D  (None, 112, 112, 16)     0         \n",
      " )                                                               \n",
      "                                                                 \n",
      " conv2d_1 (Conv2D)           (None, 112, 112, 32)      2080      \n",
      "                                                                 \n",
      " max_pooling2d_1 (MaxPooling  (None, 56, 56, 32)       0         \n",
      " 2D)                                                             \n",
      "                                                                 \n",
      " conv2d_2 (Conv2D)           (None, 56, 56, 64)        8256      \n",
      "                                                                 \n",
      " max_pooling2d_2 (MaxPooling  (None, 28, 28, 64)       0         \n",
      " 2D)                                                             \n",
      "                                                                 \n",
      " flatten_1 (Flatten)         (None, 50176)             0         \n",
      "                                                                 \n",
      " dense_1 (Dense)             (None, 500)               25088500  \n",
      "                                                                 \n",
      " dense_2 (Dense)             (None, 2)                 1002      \n",
      "                                                                 \n",
      "=================================================================\n",
      "Total params: 25,100,046\n",
      "Trainable params: 25,100,046\n",
      "Non-trainable params: 0\n",
      "_________________________________________________________________\n"
     ]
    }
   ],
   "source": [
    "model=Sequential()\n",
    "model.add(Conv2D(filters=16,kernel_size=2,padding=\"same\",activation=\"relu\",input_shape=(224,224,3)))\n",
    "model.add(MaxPooling2D(pool_size=2))\n",
    "model.add(Conv2D(filters=32,kernel_size=2,padding=\"same\",activation =\"relu\"))\n",
    "model.add(MaxPooling2D(pool_size=2))\n",
    "model.add(Conv2D(filters=64,kernel_size=2,padding=\"same\",activation=\"relu\"))\n",
    "model.add(MaxPooling2D(pool_size=2))\n",
    "model.add(Flatten())\n",
    "model.add(Dense(500,activation=\"relu\"))\n",
    "model.add(Dense(2,activation=\"softmax\"))\n",
    "model.summary()"
   ]
  },
  {
   "cell_type": "code",
   "execution_count": 22,
   "id": "30003c33",
   "metadata": {},
   "outputs": [],
   "source": [
    "model.compile(\n",
    "  loss='categorical_crossentropy',\n",
    "  optimizer='adam',\n",
    "  metrics=['accuracy']\n",
    ")"
   ]
  },
  {
   "cell_type": "code",
   "execution_count": 23,
   "id": "71ac743b",
   "metadata": {},
   "outputs": [],
   "source": [
    "from tensorflow.keras.preprocessing.image import ImageDataGenerator\n",
    "\n",
    "train_datagen = ImageDataGenerator(rescale = 1./255,\n",
    "                                   shear_range = 0.2,\n",
    "                                   zoom_range = 0.2,\n",
    "                                   horizontal_flip = True)\n",
    "\n",
    "test_datagen = ImageDataGenerator(rescale = 1./255)"
   ]
  },
  {
   "cell_type": "code",
   "execution_count": 24,
   "id": "77654ebb",
   "metadata": {},
   "outputs": [
    {
     "name": "stdout",
     "output_type": "stream",
     "text": [
      "Found 416 images belonging to 2 classes.\n"
     ]
    }
   ],
   "source": [
    "training_set = train_datagen.flow_from_directory('images/Train',\n",
    "                                                 target_size = (224, 224),\n",
    "                                                 batch_size = 32,\n",
    "                                                 class_mode = 'categorical')"
   ]
  },
  {
   "cell_type": "code",
   "execution_count": 25,
   "id": "5863d193",
   "metadata": {},
   "outputs": [
    {
     "name": "stdout",
     "output_type": "stream",
     "text": [
      "Found 134 images belonging to 2 classes.\n"
     ]
    }
   ],
   "source": [
    "test_set = test_datagen.flow_from_directory('images/Test',\n",
    "                                            target_size = (224, 224),\n",
    "                                            batch_size = 32,\n",
    "                                            class_mode = 'categorical')"
   ]
  },
  {
   "cell_type": "code",
   "execution_count": 28,
   "id": "ad88d728",
   "metadata": {},
   "outputs": [
    {
     "name": "stdout",
     "output_type": "stream",
     "text": [
      "Epoch 1/10\n",
      "13/13 [==============================] - 16s 1s/step - loss: 0.6108 - accuracy: 0.6226 - val_loss: 0.7185 - val_accuracy: 0.4701\n",
      "Epoch 2/10\n",
      "13/13 [==============================] - 16s 1s/step - loss: 0.5476 - accuracy: 0.6947 - val_loss: 0.8447 - val_accuracy: 0.4328\n",
      "Epoch 3/10\n",
      "13/13 [==============================] - 16s 1s/step - loss: 0.6258 - accuracy: 0.6226 - val_loss: 0.7467 - val_accuracy: 0.4104\n",
      "Epoch 4/10\n",
      "13/13 [==============================] - 17s 1s/step - loss: 0.5703 - accuracy: 0.6827 - val_loss: 0.7868 - val_accuracy: 0.4179\n",
      "Epoch 5/10\n",
      "13/13 [==============================] - 20s 1s/step - loss: 0.5141 - accuracy: 0.7067 - val_loss: 0.9657 - val_accuracy: 0.3806\n",
      "Epoch 6/10\n",
      "13/13 [==============================] - 22s 2s/step - loss: 0.5053 - accuracy: 0.7452 - val_loss: 0.7768 - val_accuracy: 0.4552\n",
      "Epoch 7/10\n",
      "13/13 [==============================] - 17s 1s/step - loss: 0.4710 - accuracy: 0.7572 - val_loss: 0.7803 - val_accuracy: 0.4403\n",
      "Epoch 8/10\n",
      "13/13 [==============================] - 18s 1s/step - loss: 0.4444 - accuracy: 0.7788 - val_loss: 0.8363 - val_accuracy: 0.4552\n",
      "Epoch 9/10\n",
      "13/13 [==============================] - 19s 1s/step - loss: 0.4338 - accuracy: 0.8077 - val_loss: 1.0733 - val_accuracy: 0.3507\n",
      "Epoch 10/10\n",
      "13/13 [==============================] - 19s 1s/step - loss: 0.4220 - accuracy: 0.8197 - val_loss: 0.6411 - val_accuracy: 0.6269\n"
     ]
    }
   ],
   "source": [
    "r = model.fit(\n",
    "  training_set,\n",
    "  validation_data=test_set,\n",
    "  epochs=10,\n",
    "  steps_per_epoch=len(training_set),\n",
    "  validation_steps=len(test_set)\n",
    ")"
   ]
  },
  {
   "cell_type": "code",
   "execution_count": 29,
   "id": "e3da3f72",
   "metadata": {},
   "outputs": [],
   "source": [
    "from tensorflow.keras.models import load_model\n",
    "\n",
    "model.save('model_vgg19.h5')"
   ]
  },
  {
   "cell_type": "code",
   "execution_count": 30,
   "id": "b38c031f",
   "metadata": {},
   "outputs": [
    {
     "name": "stdout",
     "output_type": "stream",
     "text": [
      "5/5 [==============================] - 1s 136ms/step\n"
     ]
    },
    {
     "data": {
      "text/plain": [
       "array([[0.5951218 , 0.4048783 ],\n",
       "       [0.8694177 , 0.13058232],\n",
       "       [0.6015562 , 0.39844385],\n",
       "       [0.19505888, 0.80494106],\n",
       "       [0.452704  , 0.547296  ],\n",
       "       [0.271038  , 0.728962  ],\n",
       "       [0.50355476, 0.49644524],\n",
       "       [0.32933033, 0.67066973],\n",
       "       [0.46153006, 0.53847   ],\n",
       "       [0.42587277, 0.5741272 ],\n",
       "       [0.49746776, 0.50253224],\n",
       "       [0.7473734 , 0.25262657],\n",
       "       [0.49002764, 0.5099724 ],\n",
       "       [0.37551415, 0.6244859 ],\n",
       "       [0.49454975, 0.5054502 ],\n",
       "       [0.31512824, 0.6848718 ],\n",
       "       [0.44458872, 0.5554113 ],\n",
       "       [0.16789612, 0.83210385],\n",
       "       [0.4312808 , 0.5687192 ],\n",
       "       [0.85131764, 0.14868234],\n",
       "       [0.5118776 , 0.48812237],\n",
       "       [0.3446026 , 0.65539736],\n",
       "       [0.57627016, 0.42372987],\n",
       "       [0.6871723 , 0.31282768],\n",
       "       [0.27202243, 0.7279776 ],\n",
       "       [0.52654254, 0.47345746],\n",
       "       [0.2528879 , 0.7471121 ],\n",
       "       [0.34355035, 0.65644974],\n",
       "       [0.41554782, 0.58445215],\n",
       "       [0.3475395 , 0.6524605 ],\n",
       "       [0.29321337, 0.7067867 ],\n",
       "       [0.53164154, 0.4683585 ],\n",
       "       [0.1988211 , 0.8011789 ],\n",
       "       [0.33344156, 0.6665584 ],\n",
       "       [0.70159703, 0.2984029 ],\n",
       "       [0.32694086, 0.67305917],\n",
       "       [0.7933452 , 0.20665476],\n",
       "       [0.41095188, 0.58904815],\n",
       "       [0.7875137 , 0.21248633],\n",
       "       [0.38807595, 0.61192405],\n",
       "       [0.49770212, 0.5022979 ],\n",
       "       [0.38027948, 0.6197206 ],\n",
       "       [0.84327537, 0.1567246 ],\n",
       "       [0.2620229 , 0.737977  ],\n",
       "       [0.36945525, 0.6305447 ],\n",
       "       [0.4008473 , 0.59915274],\n",
       "       [0.28645033, 0.7135497 ],\n",
       "       [0.6325685 , 0.36743152],\n",
       "       [0.3324046 , 0.6675954 ],\n",
       "       [0.47786433, 0.5221356 ],\n",
       "       [0.3530415 , 0.6469585 ],\n",
       "       [0.71732473, 0.28267527],\n",
       "       [0.54183125, 0.4581687 ],\n",
       "       [0.66306114, 0.33693883],\n",
       "       [0.4915172 , 0.50848275],\n",
       "       [0.42349207, 0.5765079 ],\n",
       "       [0.55216265, 0.44783735],\n",
       "       [0.64417464, 0.35582533],\n",
       "       [0.38558152, 0.61441845],\n",
       "       [0.37543464, 0.62456536],\n",
       "       [0.4714442 , 0.5285558 ],\n",
       "       [0.40867838, 0.59132165],\n",
       "       [0.42201498, 0.577985  ],\n",
       "       [0.5471853 , 0.45281467],\n",
       "       [0.3774993 , 0.62250066],\n",
       "       [0.332533  , 0.66746694],\n",
       "       [0.8304105 , 0.16958958],\n",
       "       [0.4558807 , 0.5441193 ],\n",
       "       [0.35167465, 0.6483254 ],\n",
       "       [0.33578378, 0.66421616],\n",
       "       [0.5532989 , 0.44670114],\n",
       "       [0.5661556 , 0.43384433],\n",
       "       [0.54438186, 0.45561805],\n",
       "       [0.57422876, 0.42577127],\n",
       "       [0.6522645 , 0.3477355 ],\n",
       "       [0.6129004 , 0.38709968],\n",
       "       [0.6413708 , 0.35862914],\n",
       "       [0.27174532, 0.7282547 ],\n",
       "       [0.44458845, 0.5554115 ],\n",
       "       [0.37055975, 0.62944025],\n",
       "       [0.7583685 , 0.24163148],\n",
       "       [0.41879973, 0.58120024],\n",
       "       [0.4016214 , 0.5983786 ],\n",
       "       [0.42544085, 0.5745592 ],\n",
       "       [0.7435477 , 0.25645232],\n",
       "       [0.31031802, 0.6896819 ],\n",
       "       [0.4057394 , 0.59426063],\n",
       "       [0.38096783, 0.6190322 ],\n",
       "       [0.5250256 , 0.47497436],\n",
       "       [0.4784124 , 0.52158755],\n",
       "       [0.6083842 , 0.39161587],\n",
       "       [0.2937206 , 0.70627946],\n",
       "       [0.42005235, 0.5799476 ],\n",
       "       [0.4911643 , 0.50883573],\n",
       "       [0.40488148, 0.59511846],\n",
       "       [0.78701496, 0.21298507],\n",
       "       [0.5138182 , 0.48618183],\n",
       "       [0.4197824 , 0.58021766],\n",
       "       [0.32380125, 0.6761988 ],\n",
       "       [0.29957482, 0.7004252 ],\n",
       "       [0.3190357 , 0.68096423],\n",
       "       [0.26317635, 0.7368236 ],\n",
       "       [0.29288656, 0.70711344],\n",
       "       [0.682798  , 0.317202  ],\n",
       "       [0.38887385, 0.6111262 ],\n",
       "       [0.5883192 , 0.41168082],\n",
       "       [0.4727833 , 0.52721673],\n",
       "       [0.60926867, 0.3907313 ],\n",
       "       [0.5037867 , 0.49621332],\n",
       "       [0.5037673 , 0.49623275],\n",
       "       [0.5230404 , 0.4769596 ],\n",
       "       [0.3101373 , 0.68986267],\n",
       "       [0.8686573 , 0.13134268],\n",
       "       [0.4530392 , 0.54696083],\n",
       "       [0.28681207, 0.7131879 ],\n",
       "       [0.5417098 , 0.45829016],\n",
       "       [0.6832088 , 0.31679118],\n",
       "       [0.44403422, 0.5559657 ],\n",
       "       [0.35457855, 0.64542145],\n",
       "       [0.7143404 , 0.2856596 ],\n",
       "       [0.42771763, 0.5722824 ],\n",
       "       [0.4768828 , 0.52311724],\n",
       "       [0.5258944 , 0.47410566],\n",
       "       [0.6963327 , 0.30366728],\n",
       "       [0.8574832 , 0.14251679],\n",
       "       [0.68549377, 0.31450626],\n",
       "       [0.4891251 , 0.5108749 ],\n",
       "       [0.2528314 , 0.74716866],\n",
       "       [0.28061253, 0.71938753],\n",
       "       [0.34833923, 0.6516608 ],\n",
       "       [0.44613984, 0.5538602 ],\n",
       "       [0.46244553, 0.5375545 ],\n",
       "       [0.5006922 , 0.4993078 ],\n",
       "       [0.47254092, 0.5274591 ]], dtype=float32)"
      ]
     },
     "execution_count": 30,
     "metadata": {},
     "output_type": "execute_result"
    }
   ],
   "source": [
    "y_pred = model.predict(test_set)\n",
    "y_pred"
   ]
  },
  {
   "cell_type": "code",
   "execution_count": 31,
   "id": "c1e963a9",
   "metadata": {},
   "outputs": [],
   "source": [
    "import numpy as np\n",
    "y_pred = np.argmax(y_pred, axis=1)"
   ]
  },
  {
   "cell_type": "code",
   "execution_count": 32,
   "id": "2003c77f",
   "metadata": {},
   "outputs": [
    {
     "data": {
      "text/plain": [
       "array([0, 0, 0, 1, 1, 1, 0, 1, 1, 1, 1, 0, 1, 1, 1, 1, 1, 1, 1, 0, 0, 1,\n",
       "       0, 0, 1, 0, 1, 1, 1, 1, 1, 0, 1, 1, 0, 1, 0, 1, 0, 1, 1, 1, 0, 1,\n",
       "       1, 1, 1, 0, 1, 1, 1, 0, 0, 0, 1, 1, 0, 0, 1, 1, 1, 1, 1, 0, 1, 1,\n",
       "       0, 1, 1, 1, 0, 0, 0, 0, 0, 0, 0, 1, 1, 1, 0, 1, 1, 1, 0, 1, 1, 1,\n",
       "       0, 1, 0, 1, 1, 1, 1, 0, 0, 1, 1, 1, 1, 1, 1, 0, 1, 0, 1, 0, 0, 0,\n",
       "       0, 1, 0, 1, 1, 0, 0, 1, 1, 0, 1, 1, 0, 0, 0, 0, 1, 1, 1, 1, 1, 1,\n",
       "       0, 1], dtype=int64)"
      ]
     },
     "execution_count": 32,
     "metadata": {},
     "output_type": "execute_result"
    }
   ],
   "source": [
    "y_pred"
   ]
  },
  {
   "cell_type": "code",
   "execution_count": 33,
   "id": "dd5f9ea9",
   "metadata": {},
   "outputs": [],
   "source": [
    "from tensorflow.keras.models import load_model\n",
    "from tensorflow.keras.preprocessing import image"
   ]
  },
  {
   "cell_type": "code",
   "execution_count": 47,
   "id": "7e17d7cc",
   "metadata": {},
   "outputs": [],
   "source": [
    "model=load_model('model_vgg19.h5')"
   ]
  },
  {
   "cell_type": "code",
   "execution_count": 49,
   "id": "6063b300",
   "metadata": {},
   "outputs": [],
   "source": [
    "img=image.load_img('images/Test/Uninfected/2.png',target_size=(224,224))"
   ]
  },
  {
   "cell_type": "code",
   "execution_count": 37,
   "id": "cb08f0b3",
   "metadata": {},
   "outputs": [
    {
     "data": {
      "text/plain": [
       "array([[[0., 0., 0.],\n",
       "        [0., 0., 0.],\n",
       "        [0., 0., 0.],\n",
       "        ...,\n",
       "        [0., 0., 0.],\n",
       "        [0., 0., 0.],\n",
       "        [0., 0., 0.]],\n",
       "\n",
       "       [[0., 0., 0.],\n",
       "        [0., 0., 0.],\n",
       "        [0., 0., 0.],\n",
       "        ...,\n",
       "        [0., 0., 0.],\n",
       "        [0., 0., 0.],\n",
       "        [0., 0., 0.]],\n",
       "\n",
       "       [[0., 0., 0.],\n",
       "        [0., 0., 0.],\n",
       "        [0., 0., 0.],\n",
       "        ...,\n",
       "        [0., 0., 0.],\n",
       "        [0., 0., 0.],\n",
       "        [0., 0., 0.]],\n",
       "\n",
       "       ...,\n",
       "\n",
       "       [[0., 0., 0.],\n",
       "        [0., 0., 0.],\n",
       "        [0., 0., 0.],\n",
       "        ...,\n",
       "        [0., 0., 0.],\n",
       "        [0., 0., 0.],\n",
       "        [0., 0., 0.]],\n",
       "\n",
       "       [[0., 0., 0.],\n",
       "        [0., 0., 0.],\n",
       "        [0., 0., 0.],\n",
       "        ...,\n",
       "        [0., 0., 0.],\n",
       "        [0., 0., 0.],\n",
       "        [0., 0., 0.]],\n",
       "\n",
       "       [[0., 0., 0.],\n",
       "        [0., 0., 0.],\n",
       "        [0., 0., 0.],\n",
       "        ...,\n",
       "        [0., 0., 0.],\n",
       "        [0., 0., 0.],\n",
       "        [0., 0., 0.]]], dtype=float32)"
      ]
     },
     "execution_count": 37,
     "metadata": {},
     "output_type": "execute_result"
    }
   ],
   "source": [
    "x=image.img_to_array(img)\n",
    "x"
   ]
  },
  {
   "cell_type": "code",
   "execution_count": 38,
   "id": "27fd6305",
   "metadata": {},
   "outputs": [],
   "source": [
    "x=x/255"
   ]
  },
  {
   "cell_type": "code",
   "execution_count": 39,
   "id": "a656a0d3",
   "metadata": {},
   "outputs": [
    {
     "data": {
      "text/plain": [
       "(1, 224, 224, 3)"
      ]
     },
     "execution_count": 39,
     "metadata": {},
     "output_type": "execute_result"
    }
   ],
   "source": [
    "x=np.expand_dims(x,axis=0)\n",
    "img_data=preprocess_input(x)\n",
    "img_data.shape"
   ]
  },
  {
   "cell_type": "code",
   "execution_count": 40,
   "id": "0beede9f",
   "metadata": {},
   "outputs": [
    {
     "name": "stdout",
     "output_type": "stream",
     "text": [
      "1/1 [==============================] - 0s 190ms/step\n"
     ]
    },
    {
     "data": {
      "text/plain": [
       "array([[1., 0.]], dtype=float32)"
      ]
     },
     "execution_count": 40,
     "metadata": {},
     "output_type": "execute_result"
    }
   ],
   "source": [
    "model.predict(img_data)"
   ]
  },
  {
   "cell_type": "code",
   "execution_count": 41,
   "id": "013450cd",
   "metadata": {},
   "outputs": [
    {
     "name": "stdout",
     "output_type": "stream",
     "text": [
      "1/1 [==============================] - 0s 67ms/step\n"
     ]
    }
   ],
   "source": [
    "a=np.argmax(model.predict(img_data), axis=1)"
   ]
  },
  {
   "cell_type": "code",
   "execution_count": 50,
   "id": "d2a0f430",
   "metadata": {},
   "outputs": [
    {
     "name": "stdout",
     "output_type": "stream",
     "text": [
      "infected\n"
     ]
    }
   ],
   "source": [
    "if(a==1):\n",
    "    print(\"Uninfected\")\n",
    "else:\n",
    "    print(\"infected\")"
   ]
  },
  {
   "cell_type": "code",
   "execution_count": null,
   "id": "09f88f9b",
   "metadata": {},
   "outputs": [],
   "source": []
  }
 ],
 "metadata": {
  "kernelspec": {
   "display_name": "Python 3 (ipykernel)",
   "language": "python",
   "name": "python3"
  },
  "language_info": {
   "codemirror_mode": {
    "name": "ipython",
    "version": 3
   },
   "file_extension": ".py",
   "mimetype": "text/x-python",
   "name": "python",
   "nbconvert_exporter": "python",
   "pygments_lexer": "ipython3",
   "version": "3.9.13"
  }
 },
 "nbformat": 4,
 "nbformat_minor": 5
}
